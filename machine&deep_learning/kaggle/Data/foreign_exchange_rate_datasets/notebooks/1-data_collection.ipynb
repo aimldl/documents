{
 "cells": [
  {
   "cell_type": "markdown",
   "metadata": {},
   "source": []
  },
  {
   "cell_type": "markdown",
   "metadata": {},
   "source": [
    "## Searching Kaggle Data for Exchange Rate\n",
    "In order to work on the exchange rate, Kaggle Data has been searched with the keyword \"exchange rate\": https://www.kaggle.com/search?q=exchange+rate. As of Apr.13, 2020 (Mon), there are quite a number of research results.\n",
    "\n",
    "<img src=\"images/kaggle-data-search-exchange_rate.png\">\n",
    "  ...\n",
    "<img src=\"images/kaggle-data-search-exchange_rate-2.png\">"
   ]
  },
  {
   "cell_type": "markdown",
   "metadata": {},
   "source": [
    "## Searching for Foreign Exchange Rate\n",
    "Given such as lot of options, selecting the right datase takes time. As the first step, the irrelevant keywords are filtered out to narrow down the candidate datasets. Therefore search results with stock exchange, stack exchange and bitcoin are eliminated. \n",
    "\n",
    "> kaggle search keyword: exchange rate -> foreign exchange rate\n",
    "\n",
    "162 results are shown for foreign exchange rate and 61 datasets are presented."
   ]
  },
  {
   "cell_type": "markdown",
   "metadata": {},
   "source": [
    "All includes the USA, Korea, Germany, and Japan.\n",
    "* [Exchange Rates by Federal Reserve](https://www.kaggle.com/federalreserve/exchange-rates)\n",
    "  * Exchange rates as far back as 1971 between the USA and 23 countries\n",
    "  * Daily\n",
    "  * https://www.kaggle.com/federalreserve/exchange-rates\n",
    "* [Foreign Exchange Rate (1994 - 2020) by Kian Wee](https://www.kaggle.com/kianwee/foreign-exchange-rate-1994-2020)\n",
    "  * Foreign exchange rate from 1994 to 2020\n",
    "  * Daily, 3 Jan 1994 to 28 Feb 2020. A raw dataset with blank values\n",
    "  * https://www.kaggle.com/kianwee/foreign-exchange-rate-1994-2020\n",
    "  \n",
    "* [Foreign Exchange Rates 2000-2019](https://www.kaggle.com/brunotly/foreign-exchange-rates-per-dollar-20002019)\n",
    "  * Federal Reserve's time serie of foreign exchange rates per dollar.\n",
    "  * Daily. From Jan. 3 2000 to ?\n",
    "  * https://www.kaggle.com/brunotly/foreign-exchange-rates-per-dollar-20002019\n",
    "\n",
    "Explore Time Series from the Federal Reserve\n",
    "  * Federal Reserve's Country/U.S. Freign Exchange Rate\n",
    "* [South Korea / U.S. Foreign Exchange Rate](https://www.kaggle.com/federalreserve/south-korea--u.s.-foreign-exchange-rate)\n",
    "  * https://www.kaggle.com/federalreserve/south-korea--u.s.-foreign-exchange-rate\n",
    "* [Japan / U.S. Foreign Exchange Rate](https://www.kaggle.com/federalreserve/japan--u.s.-foreign-exchange-rate)\n",
    "  * https://www.kaggle.com/federalreserve/japan--u.s.-foreign-exchange-rate\n",
    "* [U.S. / Euro Foreign Exchange Rate](https://www.kaggle.com/federalreserve/u.s.--euro-foreign-exchange-rate)\n",
    "  * https://www.kaggle.com/federalreserve/u.s.--euro-foreign-exchange-rate\n",
    "\n",
    "\n",
    "* [Korean_won vs US_Dollar exchange rate]()\n",
    "  * from 2002 Feb. to 2017 Aug."
   ]
  },
  {
   "cell_type": "markdown",
   "metadata": {},
   "source": [
    "## Selecting the Right Dataset\n",
    "\n",
    "\n",
    "* Currency Exchange rate-Kiva Dataset\n",
    "  * Currency exchange rate of 55 countries\n",
    "\n",
    "  \n",
    "* https://www.kaggle.com/thebasss/currency-exchange-rates\n",
    "  * Daily exchange rates for 51 currencies from 1995 to 2018\n",
    "  * from 01-01-1995 to 11-04-2018\n",
    "  * The rates in the column U.S. Dollar are always 1.\n",
    "  \n",
    "  This dataset contains the daily currency exchange rates as reported to the International Monetary Fund by the issuing central bank. Included are 51 currencies over the period \n",
    "\n",
    "The format is known as currency units per U.S. Dollar. Explained by example, each rate in the Euro column says how much U.S. Dollar you had to pay at a certain date to buy 1 Euro. Hence, \n",
    "  \n",
    "Well, I am just a layman with some experience in exchanging currencies. No domain knowledge in the field of foreigh exchange rate market. So no idea what dataset is the standard and in which order I should tackle the candidate datasets.\n"
   ]
  }
 ],
 "metadata": {
  "kernelspec": {
   "display_name": "Python 3",
   "language": "python",
   "name": "python3"
  },
  "language_info": {
   "codemirror_mode": {
    "name": "ipython",
    "version": 3
   },
   "file_extension": ".py",
   "mimetype": "text/x-python",
   "name": "python",
   "nbconvert_exporter": "python",
   "pygments_lexer": "ipython3",
   "version": "3.7.7"
  }
 },
 "nbformat": 4,
 "nbformat_minor": 4
}
